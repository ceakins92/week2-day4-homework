{
 "cells": [
  {
   "cell_type": "markdown",
   "metadata": {},
   "source": [
    "# Object-Oriented-Programming (OOP)"
   ]
  },
  {
   "cell_type": "markdown",
   "metadata": {},
   "source": [
    "## Tasks Today:\n",
    "\n",
    "   \n",
    "\n",
    "1) <b>Creating a Class (Initializing/Declaring)</b> <br>\n",
    "2) <b>Using a Class (Instantiating)</b> <br>\n",
    " &nbsp;&nbsp;&nbsp;&nbsp; a) Creating One Instance <br>\n",
    " &nbsp;&nbsp;&nbsp;&nbsp; b) Creating Multiple Instances <br>\n",
    " &nbsp;&nbsp;&nbsp;&nbsp; c) In-Class Exercise #1 - Create a Class 'Car' and instantiate three different makes of cars <br>\n",
    "3) <b>The \\__init\\__() Method</b> <br>\n",
    " &nbsp;&nbsp;&nbsp;&nbsp; a) The 'self' Attribute <br>\n",
    "4) <b>Class Attributes</b> <br>\n",
    " &nbsp;&nbsp;&nbsp;&nbsp; a) Initializing Attributes <br>\n",
    " &nbsp;&nbsp;&nbsp;&nbsp; b) Setting an Attribute Outside of the \\__init\\__() Method <br>\n",
    " &nbsp;&nbsp;&nbsp;&nbsp; c) Setting Defaults for Attributes <br>\n",
    " &nbsp;&nbsp;&nbsp;&nbsp; d) Accessing Class Attributes <br>\n",
    " &nbsp;&nbsp;&nbsp;&nbsp; e) Changing Class Attributes <br>\n",
    " &nbsp;&nbsp;&nbsp;&nbsp; f) In-Class Exercise #2 - Add a color and wheels attribute to your 'Car' class <br>\n",
    "5) <b>Class Methods</b> <br>\n",
    " &nbsp;&nbsp;&nbsp;&nbsp; a) Creating <br>\n",
    " &nbsp;&nbsp;&nbsp;&nbsp; b) Calling <br>\n",
    " &nbsp;&nbsp;&nbsp;&nbsp; c) Modifying an Attribute's Value Through a Method <br>\n",
    " &nbsp;&nbsp;&nbsp;&nbsp; d) Incrementing an Attribute's Value Through a Method <br>\n",
    " &nbsp;&nbsp;&nbsp;&nbsp; e) In-Class Exercise #3 - Add a method that prints the cars color and wheel number, then call them <br>\n",
    "6) <b>Inheritance</b> <br>\n",
    " &nbsp;&nbsp;&nbsp;&nbsp; a) Syntax for Inheriting from a Parent Class <br>\n",
    " &nbsp;&nbsp;&nbsp;&nbsp; b) The \\__init\\__() Method for a Child Class (super()) <br>\n",
    " &nbsp;&nbsp;&nbsp;&nbsp; c) Defining Attributes and Methods for the Child Class <br>\n",
    " &nbsp;&nbsp;&nbsp;&nbsp; d) Method Overriding <br>\n",
    " &nbsp;&nbsp;&nbsp;&nbsp; e) In-Class Exercise #4 - Create a class 'Ford' that inherits from 'Car' class and initialize it as a Blue Ford Explorer with 4 wheels using the super() method <br>\n",
    "7) <b>Classes as Attributes</b> <br>\n",
    "8) <b>Exercises</b> <br>\n",
    " &nbsp;&nbsp;&nbsp;&nbsp; a) Exercise #1 - Turn the shopping cart program from yesterday into an object-oriented program <br>"
   ]
  },
  {
   "cell_type": "markdown",
   "metadata": {},
   "source": [
    "## Creating a Class (Initializing/Declaring)\n",
    "<p>When creating a class, function, or even a variable you are initializing that object. Initializing and Declaring occur at the same time in Python, whereas in lower level languages you have to declare an object before initializing it. This is the first step in the process of using a class.</p>"
   ]
  },
  {
   "cell_type": "code",
   "execution_count": 4,
   "metadata": {},
   "outputs": [],
   "source": [
    "class Car():\n",
    "    wheels = 4\n",
    "    color = 'blue'"
   ]
  },
  {
   "cell_type": "code",
   "execution_count": null,
   "metadata": {},
   "outputs": [],
   "source": [
    "class Agent:\n",
    "    name = "
   ]
  },
  {
   "cell_type": "markdown",
   "metadata": {},
   "source": [
    "## Using a Class (Instantiating)\n",
    "<p>The process of creating a class is called <i>Instantiating</i>. Each time you create a variable of that type of class, it is referred to as an <i>Instance</i> of that class. This is the second step in the process of using a class.</p>"
   ]
  },
  {
   "cell_type": "markdown",
   "metadata": {},
   "source": [
    "##### Creating One Instance"
   ]
  },
  {
   "cell_type": "code",
   "execution_count": null,
   "metadata": {},
   "outputs": [],
   "source": [
    "ford = Car()"
   ]
  },
  {
   "cell_type": "markdown",
   "metadata": {},
   "source": [
    "##### Creating Multiple Instances"
   ]
  },
  {
   "cell_type": "code",
   "execution_count": null,
   "metadata": {},
   "outputs": [],
   "source": [
    "chevy = Car()"
   ]
  },
  {
   "cell_type": "markdown",
   "metadata": {},
   "source": [
    "##### In-Class Exercise #1 - Create a Class 'Car' and Instantiate three different makes of cars"
   ]
  },
  {
   "cell_type": "code",
   "execution_count": 13,
   "metadata": {},
   "outputs": [
    {
     "name": "stdout",
     "output_type": "stream",
     "text": [
      "4\n",
      "honda\n",
      "fit\n",
      "blue\n",
      "gts\n"
     ]
    }
   ],
   "source": [
    "class Car():\n",
    "    wheels = 4\n",
    "    steering = '4-wheel'\n",
    "    \n",
    "    def __init__(self, color, make, model):\n",
    "        self.color = color\n",
    "        self.make = make\n",
    "        self.model = model\n",
    "        \n",
    "new_car = Car('white', 'honda', 'fit')\n",
    "print(new_car.wheels)\n",
    "print(new_car.make)\n",
    "print(new_car.model)\n",
    "    \n",
    "mercedes = Car('blue', 'mercedes', 'amg')\n",
    "bmw = Car('yellow', 'bmw', '520i')\n",
    "porsche = Car('red', 'porsche', 'gts')\n",
    "\n",
    "print(mercedes.color)\n",
    "print(porsche.model)"
   ]
  },
  {
   "cell_type": "markdown",
   "metadata": {},
   "source": [
    "## The \\__init\\__() Method <br>\n",
    "<p>This method is used in almost every created class, and called only once upon the creation of the class instance. This method will initialize all variables needed for the object.</p>"
   ]
  },
  {
   "cell_type": "code",
   "execution_count": null,
   "metadata": {},
   "outputs": [],
   "source": [
    "class Car():\n",
    "    wheels = 4\n",
    "    steering = '4-wheel'\n",
    "    \n",
    "    def __init__(self, color, make, model):\n",
    "        self.color = color\n",
    "        self.make = make\n",
    "        self.model = model\n",
    "        \n",
    "new_car = Car('white', 'honda', 'fit')\n",
    "print(new_car.wheels)\n",
    "print(new_car.make)\n",
    "print(new_car.model)\n",
    "    \n",
    "mercedes = Car('blue', 'mercedes', 'amg')\n",
    "bmw = Car('yellow', 'bmw', '520i')\n",
    "porsche = Car('red', 'porsche', 'gts')\n",
    "\n",
    "print(mercedes.color)\n",
    "print(porsche.model)"
   ]
  },
  {
   "cell_type": "code",
   "execution_count": 14,
   "metadata": {},
   "outputs": [
    {
     "data": {
      "text/plain": [
       "True"
      ]
     },
     "execution_count": 14,
     "metadata": {},
     "output_type": "execute_result"
    }
   ],
   "source": [
    "class Agent:\n",
    "    name = \"Smith\"\n",
    "    \n",
    "    def __init__(self, person_overwritten, weapon, in_matrix=True):\n",
    "        self.p_overwritten = person_overwritten\n",
    "        self.weapon = weapon\n",
    "        self.in_matrix = in_matrix\n",
    "        \n",
    "new_agent = Agent('Bob', 'Desert Eagle')\n",
    "\n",
    "new_agent.in_matrix"
   ]
  },
  {
   "cell_type": "markdown",
   "metadata": {},
   "source": [
    "##### The 'self' Attribute <br>\n",
    "<p>This attribute is required to keep track of specific instance's attributes. Without the self attribute, the program would not know how to reference or keep track of an instance's attributes.</p>"
   ]
  },
  {
   "cell_type": "code",
   "execution_count": null,
   "metadata": {},
   "outputs": [],
   "source": [
    "# see above"
   ]
  },
  {
   "cell_type": "markdown",
   "metadata": {},
   "source": [
    "## Class Attributes <br>\n",
    "<p>While variables are inside of a class, they are referred to as attributes and not variables. When someone says 'attribute' you know they're speaking about a class. Attributes can be initialized through the init method, or outside of it.</p>"
   ]
  },
  {
   "cell_type": "markdown",
   "metadata": {},
   "source": [
    "##### Initializing Attributes"
   ]
  },
  {
   "cell_type": "code",
   "execution_count": null,
   "metadata": {},
   "outputs": [],
   "source": [
    "# see above"
   ]
  },
  {
   "cell_type": "markdown",
   "metadata": {},
   "source": [
    "##### Accessing Class Attributes"
   ]
  },
  {
   "cell_type": "code",
   "execution_count": 17,
   "metadata": {
    "scrolled": true
   },
   "outputs": [
    {
     "data": {
      "text/plain": [
       "'Smith'"
      ]
     },
     "execution_count": 17,
     "metadata": {},
     "output_type": "execute_result"
    }
   ],
   "source": [
    "# See Above\n",
    "#new_agent.p_overwritten\n",
    "#new_agent.weapon\n",
    "Agent.name"
   ]
  },
  {
   "cell_type": "markdown",
   "metadata": {},
   "source": [
    "##### Setting Defaults for Attributes"
   ]
  },
  {
   "cell_type": "code",
   "execution_count": 18,
   "metadata": {},
   "outputs": [
    {
     "data": {
      "text/plain": [
       "True"
      ]
     },
     "execution_count": 18,
     "metadata": {},
     "output_type": "execute_result"
    }
   ],
   "source": [
    "class Agent:\n",
    "    name = \"Smith\"\n",
    "    \n",
    "    def __init__(self, person_overwritten, weapon):\n",
    "        self.p_overwritten = person_overwritten\n",
    "        self.weapon = weapon\n",
    "        self.in_matrix = True  #This sets as default\n",
    "        \n",
    "new_agent2 = Agent('Joe', 'Desert Eagle')\n",
    "\n",
    "new_agent2.in_matrix"
   ]
  },
  {
   "cell_type": "markdown",
   "metadata": {},
   "source": [
    "##### Changing Class Attributes <br>\n",
    "<p>Keep in mind there are global class attributes and then there are attributes only available to each class instance which won't effect other classes.</p>"
   ]
  },
  {
   "cell_type": "code",
   "execution_count": 20,
   "metadata": {},
   "outputs": [
    {
     "name": "stdout",
     "output_type": "stream",
     "text": [
      "Brown\n",
      "Brown after change\n",
      "Bob  before\n",
      "Bill after\n"
     ]
    }
   ],
   "source": [
    "print(new_agent.name)\n",
    "new_agent.name = 'Brown'\n",
    "print(new_agent.name, 'after change')\n",
    "\n",
    "print(new_agent.p_overwritten, 'before')\n",
    "new_agent.p_overwritten = 'Bill'\n",
    "print(new_agent.p_overwritten, 'after')"
   ]
  },
  {
   "cell_type": "code",
   "execution_count": 21,
   "metadata": {},
   "outputs": [
    {
     "data": {
      "text/plain": [
       "'Truck'"
      ]
     },
     "execution_count": 21,
     "metadata": {},
     "output_type": "execute_result"
    }
   ],
   "source": [
    "# Assigning a new attribute outside of class\n",
    "new_agent.car = 'Truck'\n",
    "new_agent.car"
   ]
  },
  {
   "cell_type": "markdown",
   "metadata": {},
   "source": [
    "##### In-Class Exercise #2 - Add a doors and seats attribute to your 'Car' class then print out two different instances with different doors and seats"
   ]
  },
  {
   "cell_type": "code",
   "execution_count": 25,
   "metadata": {},
   "outputs": [
    {
     "name": "stdout",
     "output_type": "stream",
     "text": [
      "4\n",
      "honda\n",
      "fit\n",
      "4\n",
      "2\n",
      "2\n",
      "2\n",
      "4\n"
     ]
    }
   ],
   "source": [
    "class Car():\n",
    "    wheels = 4\n",
    "    steering = '4-wheel'\n",
    "    doors = 2\n",
    "    seats = 3\n",
    "    \n",
    "    def __init__(self, color, make, model):\n",
    "        self.color = color\n",
    "        self.make = make\n",
    "        self.model = model\n",
    "        \n",
    "new_car = Car('white', 'honda', 'fit')\n",
    "print(new_car.wheels)\n",
    "print(new_car.make)\n",
    "print(new_car.model)\n",
    "    \n",
    "mercedes = Car('blue', 'mercedes', 'amg')\n",
    "bmw = Car('yellow', 'bmw', '520i')\n",
    "porsche = Car('red', 'porsche', 'gts')\n",
    "\n",
    "mercedes.doors = '4'\n",
    "print(mercedes.doors)\n",
    "mercedes.doors = '2'\n",
    "print(mercedes.doors)\n",
    "porsche.doors = '2'\n",
    "print(porsche.doors)\n",
    "\n",
    "porsche.seats = '2'\n",
    "print(porsche.seats)\n",
    "porsche.seats = '4'\n",
    "print(porsche.seats)"
   ]
  },
  {
   "cell_type": "markdown",
   "metadata": {},
   "source": [
    "## Class Methods <br>\n",
    "<p>While inside of a class, functions are referred to as 'methods'. If you hear someone mention methods, they're speaking about classes. Methods are essentially functions, but only callable on the instances of a class.</p>"
   ]
  },
  {
   "cell_type": "markdown",
   "metadata": {},
   "source": [
    "##### Creating"
   ]
  },
  {
   "cell_type": "code",
   "execution_count": 57,
   "metadata": {},
   "outputs": [
    {
     "name": "stdout",
     "output_type": "stream",
     "text": [
      "Red pill down the rabbit hole; Blue pill keep dreaming?red\n",
      "Are you ready for training?yes\n",
      "\n",
      "You learned ['Boxing', 'kung fu', 'taekwando', 'aidido', 'drunken monk', 'winghun']. DOPE!\n",
      "\n",
      "Plug into the Matrix\n",
      "Agents are coming, slow down time, do some flips or something!\n",
      "\n",
      "Get out of the Matrix ASAP\n",
      "Red pill down the rabbit hole; Blue pill exit the Matrix?blue\n",
      "Stays hooked to the machine, sad face.\n"
     ]
    }
   ],
   "source": [
    "class human_matrix_universe:\n",
    "    \"\"\"\n",
    "        A class with methods to wake up, get training, enter matrix,\n",
    "        battle agents, leave matrix, decide to stay\n",
    "        Class Attributes:\n",
    "            name, fighting styles(list), awake\n",
    "    \"\"\"\n",
    "    \n",
    "    \n",
    "    def __init__(self, name, fighting_styles=[], awake=False):\n",
    "        self.name = name\n",
    "        self.fighting_styles = fighting_styles\n",
    "        self.awake = awake\n",
    "        self.location = 1\n",
    "        \n",
    "    def pill_decision(self, pill):\n",
    "        # updating a class attribute\n",
    "        if pill == 'red':\n",
    "            self.awake = True\n",
    "        else:\n",
    "            self.awake = False\n",
    "            print('Stays hooked to the machine, sad face.')\n",
    "    \n",
    "    def get_training(self):\n",
    "        self.fighting_styles += ['kung fu', 'taekwando', 'aidido', 'drunken monk', 'winghun']\n",
    "        print(f'\\nYou learned {self.fighting_styles}. DOPE!')\n",
    "    \n",
    "    # Dynamically adjust lass attribute\n",
    "    def specific_training(self, fighting_style):\n",
    "        self.fighting_styles.append(fighting_style)\n",
    "        print(f'\\nYou learned {fighting_style}. Awesome!')\n",
    "    \n",
    "    def enter_matrix(self):\n",
    "        print('\\nPlug into the Matrix')\n",
    "        self.location = 1\n",
    "    \n",
    "    def exit_matrix(self):\n",
    "        print('\\nGet out of the Matrix ASAP')\n",
    "        self.location = 0\n",
    "        #setattr(self, location, 0)  this also works\n",
    "    \n",
    "    def dodge_bullets(self):\n",
    "        if self.location and self.awake:\n",
    "            print('Agents are coming, slow down time, do some flips or something!')\n",
    "        else:\n",
    "            print('Run!')\n",
    "            \n",
    "    def driver(self):\n",
    "        pill = input('Red pill down the rabbit hole; Blue pill keep dreaming?').lower()\n",
    "        self.pill_decision(pill)\n",
    "        while self.awake:\n",
    "            res = input('Are you ready for training?').lower()\n",
    "            if res == 'yes':\n",
    "                self.get_training()\n",
    "            self.enter_matrix()\n",
    "            self.dodge_bullets()\n",
    "            self.exit_matrix()\n",
    "            pill = input('Red pill stay and die; Blue pill exit the Matrix?').lower()\n",
    "            self.pill_decision(pill)\n",
    "            \n",
    "new_human = human_matrix_universe('Tank', ['Boxing'])\n",
    "\n",
    "new_human.driver()"
   ]
  },
  {
   "cell_type": "markdown",
   "metadata": {},
   "source": [
    "##### Calling"
   ]
  },
  {
   "cell_type": "code",
   "execution_count": 44,
   "metadata": {},
   "outputs": [
    {
     "name": "stdout",
     "output_type": "stream",
     "text": [
      "False\n",
      "True\n",
      "Agents are coming, slow down time, do some flips or something!\n"
     ]
    }
   ],
   "source": [
    "# See Above\n",
    "neo = human_matrix_universe('neo')\n",
    "\n",
    "# Before\n",
    "print(neo.awake)\n",
    "\n",
    "# Modify class attribute\n",
    "neo.pill_decision('red')\n",
    "neo.awake\n",
    "\n",
    "# After\n",
    "print(neo.awake)\n",
    "\n",
    "neo.dodge_bullets()"
   ]
  },
  {
   "cell_type": "markdown",
   "metadata": {},
   "source": [
    "##### Modifying an Attribute's Value Through a Method"
   ]
  },
  {
   "cell_type": "code",
   "execution_count": 53,
   "metadata": {},
   "outputs": [
    {
     "name": "stdout",
     "output_type": "stream",
     "text": [
      "['knitting', 'knitting', 'knitting']\n",
      "\n",
      "You learned knitting. Awesome!\n",
      "['knitting', 'knitting', 'knitting', 'knitting']\n",
      "black\n"
     ]
    }
   ],
   "source": [
    "# See Above\n",
    "\n",
    "print(neo.fighting_styles)\n",
    "\n",
    "neo.specific_training('knitting')\n",
    "\n",
    "print(neo.fighting_styles)\n",
    "\n",
    "# adding using 'setattr' but only applies to this instance\n",
    "setattr(neo, 'glasses', 'black')\n",
    "\n",
    "print(neo.glasses)\n"
   ]
  },
  {
   "cell_type": "markdown",
   "metadata": {},
   "source": [
    "##### Incrementing an Attribute's Value Through a Method"
   ]
  },
  {
   "cell_type": "code",
   "execution_count": null,
   "metadata": {},
   "outputs": [],
   "source": []
  },
  {
   "cell_type": "markdown",
   "metadata": {},
   "source": [
    "##### In-Class Exercise #3 - Add a method that takes in three parameters of year, doors and seats and prints out a formatted print statement with make, model, year, seats, and doors"
   ]
  },
  {
   "cell_type": "code",
   "execution_count": 54,
   "metadata": {},
   "outputs": [
    {
     "name": "stdout",
     "output_type": "stream",
     "text": [
      "This car is from 2019 and is a ford explorer and has 4 and 5.\n"
     ]
    }
   ],
   "source": [
    "# Create class with 2 paramters inside of the __init__ which are make and model\n",
    "\n",
    "# Inside of the Car class create a method that has 4 parameter in total (self,year,door,seats)\n",
    "\n",
    "# Output: This car is from 2019 and is a Ford Expolorer and has 4 doors and 5 seats\n",
    "\n",
    "class car():\n",
    "    \n",
    "    def __init__(self, make, model):\n",
    "        self.make = make\n",
    "        self.model = model\n",
    "\n",
    "    def car_details(self, year, doors, seats):\n",
    "        self.year = year\n",
    "        self.doors = doors\n",
    "        self.seats = seats\n",
    "        print(f'This car is from {self.year} and is a {self.make} {self.model} and has {self.doors} and {self.seats}.')\n",
    "        \n",
    "car1 = car('ford', 'explorer')\n",
    "\n",
    "car1.car_details('2019', 4, 5)\n"
   ]
  },
  {
   "cell_type": "markdown",
   "metadata": {},
   "source": [
    "## Inheritance <br>\n",
    "<p>You can create a child-parent relationship between two classes by using inheritance. What this allows you to do is have overriding methods, but also inherit traits from the parent class. Think of it as an actual parent and child, the child will inherit the parent's genes, as will the classes in OOP</p>"
   ]
  },
  {
   "cell_type": "markdown",
   "metadata": {},
   "source": [
    "##### Syntax for Inheriting from a Parent Class"
   ]
  },
  {
   "cell_type": "code",
   "execution_count": 61,
   "metadata": {},
   "outputs": [
    {
     "name": "stdout",
     "output_type": "stream",
     "text": [
      "I am a human!\n",
      "Bob Clerk {'strength': 10, 'dexterity': 10, 'intel': 10}\n",
      "medium\n"
     ]
    }
   ],
   "source": [
    "#Parent class\n",
    "class fantasy_character:\n",
    "    speed = 10\n",
    "    \n",
    "    def __init__(self, name, fantasy_class, stats):\n",
    "        self.name = name\n",
    "        self.fantasy_class = fantasy_class\n",
    "        self.stats = stats\n",
    "        \n",
    "    def display_character(self):\n",
    "        print(f'{self.name} {self.fantasy_class} {self.stats}')\n",
    "        \n",
    "#Child Class\n",
    "class human(fantasy_character):\n",
    "    size = 'medium'\n",
    "    \n",
    "    def display_fantasy_race(self):\n",
    "        print('I am a human!')\n",
    "        \n",
    "dummy_stats= {\n",
    "    'strength' : 10,\n",
    "    'dexterity' : 10,\n",
    "    'intel' : 10,\n",
    "}\n",
    "        \n",
    "new_human = human('Bob', 'Clerk', dummy_stats)\n",
    "\n",
    "new_human.display_fantasy_race()\n",
    "\n",
    "#accessing parent attribute\n",
    "new_human.speed\n",
    "\n",
    "#accessing parent method\n",
    "new_human.display_character()\n",
    "\n",
    "#accessing own attributes\n",
    "print(new_human.size)"
   ]
  },
  {
   "cell_type": "markdown",
   "metadata": {},
   "source": [
    "##### The \\__init\\__() Method for a Child Class - super()"
   ]
  },
  {
   "cell_type": "code",
   "execution_count": 66,
   "metadata": {
    "scrolled": true
   },
   "outputs": [
    {
     "name": "stdout",
     "output_type": "stream",
     "text": [
      "My class is a hobbit\n",
      "bilbo ranger {'strength': 10, 'dexterity': 10, 'intel': 10}\n"
     ]
    }
   ],
   "source": [
    "from random import randint\n",
    "\n",
    "class hobbit(fantasy_character):\n",
    " #over-riding parent class attribute\n",
    "    speed = 12\n",
    "    size = 'small'\n",
    "    \n",
    "    def __init__(self, name, fantasy_class, stats, height):\n",
    "        super().__init__(name, fantasy_class, stats)\n",
    "        self.height = height\n",
    "        \n",
    "  #defining methods\n",
    "    def lucky(self):\n",
    "        print(f'You gain a {(1, self.stats[\"dexterity\"])} bonus to your luck')\n",
    "                            \n",
    "    def display_my_class(self):\n",
    "        print('My class is a hobbit')\n",
    "                            \n",
    "bilbo = hobbit('bilbo', 'burglar', dummy_stats, 4)\n",
    "bilbo.speed\n",
    "bilbo.display_my_class()\n",
    "bilbo.display_character()"
   ]
  },
  {
   "cell_type": "markdown",
   "metadata": {},
   "source": [
    "##### Defining Attributes and Methods for the Child Class"
   ]
  },
  {
   "cell_type": "code",
   "execution_count": null,
   "metadata": {},
   "outputs": [],
   "source": [
    "# See Above"
   ]
  },
  {
   "cell_type": "markdown",
   "metadata": {},
   "source": [
    "##### Method Overriding"
   ]
  },
  {
   "cell_type": "code",
   "execution_count": 69,
   "metadata": {},
   "outputs": [
    {
     "name": "stdout",
     "output_type": "stream",
     "text": [
      "My class is STOUT hobbit! arghhhhh!!!\n"
     ]
    }
   ],
   "source": [
    "# Grandchild class\n",
    "\n",
    "class stout_hobbit(hobbit):\n",
    "    \n",
    "    def __init__(self, name, fantasy_class, stats, height, weight):\n",
    "        super().__init__(name, fantasy_class, stats, height)\n",
    "        self.weight = weight\n",
    "        \n",
    "    def display_my_class(self):\n",
    "        print('My class is STOUT hobbit! arghhhhh!!!')\n",
    "        \n",
    "sam = stout_hobbit('Sam', 'barbarian', dummy_stats, 4, 200)\n",
    "\n",
    "sam.speed\n",
    "sam.display_my_class()"
   ]
  },
  {
   "cell_type": "code",
   "execution_count": 75,
   "metadata": {},
   "outputs": [],
   "source": [
    "class stats:\n",
    "    def __init__(self, strength=10, dexterity=10, constitution=10, intel=10, humor=10, charisma=10):\n",
    "        self.strength = strength\n",
    "        self.dexterity = dexterity\n",
    "        self.constitution = constitution\n",
    "        self.intel = intel\n",
    "        self.humor = humor\n",
    "        self.charisma = charisma\n",
    "        \n",
    "    def simple_test(self):\n",
    "        print(\"method from attribute object\")"
   ]
  },
  {
   "cell_type": "markdown",
   "metadata": {},
   "source": [
    "## Classes as Attributes <br>\n",
    "<p>Classes can also be used as attributes within another class. This is useful in situations where you need to keep variables locally stored, instead of globally stored.</p>"
   ]
  },
  {
   "cell_type": "code",
   "execution_count": 78,
   "metadata": {},
   "outputs": [
    {
     "name": "stdout",
     "output_type": "stream",
     "text": [
      "method from attribute object\n"
     ]
    }
   ],
   "source": [
    "new_stats = stats()\n",
    "new_character = hobbit('Frodo', 'dufus', new_stats, 4)\n",
    "\n",
    "\n",
    "new_character.stats.dexterity\n",
    "\n",
    "new_character.stats.simple_test()"
   ]
  },
  {
   "cell_type": "markdown",
   "metadata": {},
   "source": [
    "# Exercises"
   ]
  },
  {
   "cell_type": "markdown",
   "metadata": {},
   "source": [
    "### Exercise 1 - Turn the shopping cart program from yesterday into an object-oriented program\n",
    "\n",
    "The comments in the cell below are there as a guide for thinking about the problem. However, if you feel a different way is best for you and your own thought process, please do what feels best for you by all means."
   ]
  },
  {
   "cell_type": "code",
   "execution_count": 6,
   "metadata": {},
   "outputs": [
    {
     "name": "stdout",
     "output_type": "stream",
     "text": [
      "Would you like to Add | Remove | Show | Quit ?\n",
      "add\n",
      "What would you like to add?\n",
      "apples\n",
      "How many apples would you like to add?:\n",
      "2\n",
      "How much does apples cost?:\n",
      "3\n",
      "{'apples': {'quantity': 2, 'price': 3.0}}\n",
      "Please choose from the list of options:\n",
      "\n",
      "Would you like to Add | Remove | Show | Quit ?\n",
      "remove\n",
      "What would you like to remove?\n",
      "apples\n",
      "How many would you like to remove?\n",
      "4\n",
      "{}\n",
      "Please choose from the list of options:\n",
      "\n",
      "Would you like to Add | Remove | Show | Quit ?\n",
      "quit\n",
      "{}\n"
     ]
    }
   ],
   "source": [
    "# Create a class called cart that retains items and has methods to add, remove, and show - via driver\n",
    "\n",
    "  \n",
    "\n",
    "class cart():\n",
    "    grocery_dict = {}\n",
    "   \n",
    "    \n",
    "    def shopper(self):\n",
    "        shopping = True\n",
    "        while True:\n",
    "           \n",
    "            response = input('Would you like to Add | Remove | Show | Quit ?\\n').lower()\n",
    "            \n",
    "            if response == 'add':\n",
    "                self.add()\n",
    "            \n",
    "            if response == 'remove':\n",
    "                self.remove()\n",
    "            \n",
    "            if response == 'show':\n",
    "                self.show()\n",
    "            \n",
    "            if response == 'quit':\n",
    "                self.show()\n",
    "                break\n",
    "                \n",
    "            else:\n",
    "                print('Please choose from the list of options:\\n')\n",
    "            \n",
    "        \n",
    "    def add(self):\n",
    "        item = input('What would you like to add?\\n').lower()\n",
    "        while True:\n",
    "            quantity = input(f\"How many {item} would you like to add?:\\n\")\n",
    "            if quantity.isdigit():\n",
    "                quantity = int(quantity)\n",
    "                break\n",
    "            else:\n",
    "                print('Please enter quantity to ADD in digits')\n",
    "        while True:\n",
    "            try:\n",
    "                price = float(input(f\"How much does {item} cost?:\\n\"))\n",
    "                break\n",
    "            except:\n",
    "                print('Please enter price in digits')\n",
    "        if item in self.grocery_dict:\n",
    "            pass\n",
    "        else:\n",
    "            self.grocery_dict[item] = {\n",
    "                'quantity' : quantity,\n",
    "                'price' : price\n",
    "            }\n",
    "        self.show()\n",
    "        \n",
    "    def remove(self):\n",
    "        item_to_remove = input('What would you like to remove?\\n').lower()\n",
    "        while True:\n",
    "            try:        \n",
    "                quantity = int(input('How many would you like to remove?\\n'))\n",
    "                break\n",
    "            except:\n",
    "                print('Please enter quantity in digits.')\n",
    "        if item_to_remove in self.grocery_dict:\n",
    "            self.grocery_dict[item_to_remove]['quantity'] -= quantity\n",
    "            if self.grocery_dict[item_to_remove]['quantity'] < 1:\n",
    "                self.grocery_dict.pop(item_to_remove)\n",
    "        else:\n",
    "            print(\"Item not in cart\")\n",
    "        self.show()\n",
    "                \n",
    "    def show(self):\n",
    "        print(self.grocery_dict)\n",
    "    \n",
    "new_cart = cart()\n",
    "\n",
    "new_cart.shopper()\n",
    "    "
   ]
  },
  {
   "cell_type": "code",
   "execution_count": null,
   "metadata": {},
   "outputs": [],
   "source": []
  },
  {
   "cell_type": "markdown",
   "metadata": {},
   "source": [
    "### Exercise 2 - Write a Python class which has two methods get_String and print_String. get_String accept a string from the user and print_String print the string in upper case"
   ]
  },
  {
   "cell_type": "code",
   "execution_count": 17,
   "metadata": {},
   "outputs": [
    {
     "name": "stdout",
     "output_type": "stream",
     "text": [
      "What is your favorite phrase?\n",
      "Oh how the mighty have fallen\n",
      "['OH HOW THE MIGHTY HAVE FALLEN']\n"
     ]
    }
   ],
   "source": [
    "class get_stuff():\n",
    "    the_thing = []\n",
    "    \n",
    "    def get_string(self):\n",
    "        thing_to_print = input('What is your favorite phrase?\\n')\n",
    "        self.the_thing.append(thing_to_print)\n",
    "        self.print_string()\n",
    "        \n",
    "    def print_string(self):\n",
    "        print(str(self.the_thing).upper())\n",
    "\n",
    "new_phrase = get_stuff()\n",
    "new_phrase.get_string()"
   ]
  },
  {
   "cell_type": "code",
   "execution_count": null,
   "metadata": {},
   "outputs": [],
   "source": []
  },
  {
   "cell_type": "code",
   "execution_count": null,
   "metadata": {},
   "outputs": [],
   "source": []
  }
 ],
 "metadata": {
  "kernelspec": {
   "display_name": "Python 3 (ipykernel)",
   "language": "python",
   "name": "python3"
  },
  "language_info": {
   "codemirror_mode": {
    "name": "ipython",
    "version": 3
   },
   "file_extension": ".py",
   "mimetype": "text/x-python",
   "name": "python",
   "nbconvert_exporter": "python",
   "pygments_lexer": "ipython3",
   "version": "3.10.9"
  }
 },
 "nbformat": 4,
 "nbformat_minor": 2
}
